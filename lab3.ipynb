{
 "cells": [
  {
   "cell_type": "markdown",
   "metadata": {},
   "source": [
    "# N-Puzzle Problem"
   ]
  },
  {
   "cell_type": "code",
   "execution_count": 30,
   "metadata": {},
   "outputs": [],
   "source": [
    "import numpy as np\n",
    "from collections import namedtuple\n",
    "from random import choice\n",
    "from tqdm.auto import tqdm\n",
    "from icecream import ic"
   ]
  },
  {
   "cell_type": "code",
   "execution_count": null,
   "metadata": {},
   "outputs": [],
   "source": [
    "PUZZLE_DIM = 5\n",
    "action = namedtuple('Action', ['pos1', 'pos2'])"
   ]
  },
  {
   "cell_type": "code",
   "execution_count": 34,
   "metadata": {},
   "outputs": [],
   "source": [
    "def available_actions(state: np.array) -> list['Action']:\n",
    "    x, y = [int(_[0]) for _ in np.where(state == 0)]\n",
    "    actions = list()\n",
    "    if x > 0:\n",
    "        actions.append(action((x,y), (x-1, y)))\n",
    "    if x < PUZZLE_DIM - 1:\n",
    "        actions.append(action((x,y), (x+1, y)))\n",
    "    if y > 0:\n",
    "        actions.append(action((x,y), (x, y-1)))\n",
    "    if y < PUZZLE_DIM - 1:\n",
    "        actions.append(action((x,y), (x, y+1)))\n",
    "    return actions\n",
    "    \n",
    "    \n",
    "def move(state: np.ndarray, action: 'Action') -> np.ndarray:\n",
    "    new_state = state.copy()\n",
    "    new_state[action.pos1], new_state[action.pos2] = new_state[action.pos2], new_state[action.pos1]\n",
    "    return new_state\n"
   ]
  },
  {
   "cell_type": "code",
   "execution_count": null,
   "metadata": {},
   "outputs": [
    {
     "name": "stderr",
     "output_type": "stream",
     "text": [
      "ic| state: array([[ 1,  2,  3,  4,  5],\n",
      "                  [ 6,  7,  8,  9, 10],\n",
      "                  [11, 12, 13, 14, 15],\n",
      "                  [16, 17, 18, 19, 20],\n",
      "                  [21, 22, 23, 24,  0]])\n",
      "Randomizing: 100%|██████████| 1000000/1000000 [00:09<00:00, 101122.44it/s]\n"
     ]
    },
    {
     "data": {
      "text/plain": [
       "array([[ 2,  4, 10,  5, 16],\n",
       "       [24, 14,  3,  9, 11],\n",
       "       [20, 13,  0, 12, 15],\n",
       "       [ 8, 23, 19,  1, 22],\n",
       "       [18, 21, 17,  7,  6]])"
      ]
     },
     "execution_count": 39,
     "metadata": {},
     "output_type": "execute_result"
    }
   ],
   "source": [
    "RANDOMIZE_STEPS = 100_000\n",
    "state = np.array([i for i in range(1, PUZZLE_DIM**2)] + [0]).reshape(PUZZLE_DIM, PUZZLE_DIM)\n",
    "ic(state)\n",
    "for r in tqdm(range(RANDOMIZE_STEPS), desc = 'Randomizing'):\n",
    "    state = move(state, choice(available_actions(state)))\n",
    "state\n"
   ]
  }
 ],
 "metadata": {
  "kernelspec": {
   "display_name": "lab3",
   "language": "python",
   "name": "python3"
  },
  "language_info": {
   "codemirror_mode": {
    "name": "ipython",
    "version": 3
   },
   "file_extension": ".py",
   "mimetype": "text/x-python",
   "name": "python",
   "nbconvert_exporter": "python",
   "pygments_lexer": "ipython3",
   "version": "3.12.2"
  }
 },
 "nbformat": 4,
 "nbformat_minor": 2
}
